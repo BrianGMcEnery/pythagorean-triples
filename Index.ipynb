{
 "cells": [
  {
   "cell_type": "markdown",
   "id": "colonial-window",
   "metadata": {},
   "source": [
    "This is a link to [Pythagorean Triples](https://notebooks.gesis.org/binder/jupyter/user/briangmcenery-p-agorean-triples-u5ed3wt8/notebooks/PythagoreanTriples.ipynb)."
   ]
  },
  {
   "cell_type": "code",
   "execution_count": null,
   "id": "provincial-america",
   "metadata": {},
   "outputs": [],
   "source": []
  }
 ],
 "metadata": {
  "kernelspec": {
   "display_name": "Python 3",
   "language": "python",
   "name": "python3"
  },
  "language_info": {
   "codemirror_mode": {
    "name": "ipython",
    "version": 3
   },
   "file_extension": ".py",
   "mimetype": "text/x-python",
   "name": "python",
   "nbconvert_exporter": "python",
   "pygments_lexer": "ipython3",
   "version": "3.9.1"
  }
 },
 "nbformat": 4,
 "nbformat_minor": 5
}
