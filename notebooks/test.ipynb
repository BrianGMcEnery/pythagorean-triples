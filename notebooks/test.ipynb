{
 "cells": [
  {
   "cell_type": "code",
   "execution_count": 1,
   "id": "forward-montreal",
   "metadata": {},
   "outputs": [
    {
     "data": {
      "text/plain": [
       "4"
      ]
     },
     "execution_count": 1,
     "metadata": {},
     "output_type": "execute_result"
    }
   ],
   "source": [
    "1 + 3"
   ]
  },
  {
   "cell_type": "code",
   "execution_count": 15,
   "id": "stupid-child",
   "metadata": {},
   "outputs": [],
   "source": [
    "from phytrip import Triple"
   ]
  },
  {
   "cell_type": "code",
   "execution_count": 16,
   "id": "settled-princeton",
   "metadata": {},
   "outputs": [],
   "source": [
    "a = Triple(3, 4, 5)"
   ]
  },
  {
   "cell_type": "code",
   "execution_count": 17,
   "id": "ultimate-modem",
   "metadata": {},
   "outputs": [
    {
     "data": {
      "text/plain": [
       "<phytrip.triple.Triple at 0x7fc3d3ba56d0>"
      ]
     },
     "execution_count": 17,
     "metadata": {},
     "output_type": "execute_result"
    }
   ],
   "source": [
    "a"
   ]
  },
  {
   "cell_type": "code",
   "execution_count": 18,
   "id": "british-scott",
   "metadata": {},
   "outputs": [
    {
     "data": {
      "text/plain": [
       "(3, 4, 5)"
      ]
     },
     "execution_count": 18,
     "metadata": {},
     "output_type": "execute_result"
    }
   ],
   "source": [
    "a.get()"
   ]
  },
  {
   "cell_type": "code",
   "execution_count": 19,
   "id": "deluxe-optimum",
   "metadata": {},
   "outputs": [
    {
     "data": {
      "text/plain": [
       "'<phytrip.triple.Triple object at 0x7fc3d3ba56d0>'"
      ]
     },
     "execution_count": 19,
     "metadata": {},
     "output_type": "execute_result"
    }
   ],
   "source": [
    "str(a)"
   ]
  },
  {
   "cell_type": "code",
   "execution_count": 20,
   "id": "fifty-variation",
   "metadata": {},
   "outputs": [
    {
     "data": {
      "text/plain": [
       "'<phytrip.triple.Triple object at 0x7fc3d3ba56d0>'"
      ]
     },
     "execution_count": 20,
     "metadata": {},
     "output_type": "execute_result"
    }
   ],
   "source": [
    "str(a)"
   ]
  },
  {
   "cell_type": "code",
   "execution_count": 21,
   "id": "native-yellow",
   "metadata": {},
   "outputs": [
    {
     "name": "stdout",
     "output_type": "stream",
     "text": [
      "<phytrip.triple.Triple object at 0x7fc3d3ba56d0>\n"
     ]
    }
   ],
   "source": [
    "print(a)"
   ]
  },
  {
   "cell_type": "code",
   "execution_count": null,
   "id": "induced-laptop",
   "metadata": {},
   "outputs": [],
   "source": []
  }
 ],
 "metadata": {
  "kernelspec": {
   "display_name": "Python 3",
   "language": "python",
   "name": "python3"
  },
  "language_info": {
   "codemirror_mode": {
    "name": "ipython",
    "version": 3
   },
   "file_extension": ".py",
   "mimetype": "text/x-python",
   "name": "python",
   "nbconvert_exporter": "python",
   "pygments_lexer": "ipython3",
   "version": "3.9.1"
  }
 },
 "nbformat": 4,
 "nbformat_minor": 5
}
