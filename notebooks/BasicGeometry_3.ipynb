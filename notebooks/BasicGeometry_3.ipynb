{
 "cells": [
  {
   "attachments": {
    "ad63fe5b-c399-416b-9225-b3f01181198b.png": {
     "image/png": "[encoded data removed]"
    }
   },
   "cell_type": "markdown",
   "id": "finnish-color",
   "metadata": {},
   "source": [
    "![Fast Forward.png](attachment:ad63fe5b-c399-416b-9225-b3f01181198b.png)"
   ]
  },
  {
   "cell_type": "markdown",
   "id": "fancy-jonathan",
   "metadata": {},
   "source": [
    "# Basic Geometry 3\n",
    "\n",
    "*Brian G. Mc Enery*"
   ]
  },
  {
   "cell_type": "markdown",
   "id": "acquired-functionality",
   "metadata": {},
   "source": [
    "### Drawing Geometrical Objects"
   ]
  },
  {
   "cell_type": "markdown",
   "id": "specialized-newton",
   "metadata": {},
   "source": [
    "The [matplotlib](https://matplotlib.org/stable/contents.html) graphics environment is extensive and well beyond what we require to draw diagrams of geometrical objects in 2-d. To this end I have developed my own graphical environment which uses [matplotlib](https://matplotlib.org/stable/contents.html). So. Let's get started."
   ]
  },
  {
   "cell_type": "markdown",
   "id": "compressed-removal",
   "metadata": {},
   "source": [
    "First as usual we must import some classes, some we have met before, and one in particular which is new."
   ]
  },
  {
   "cell_type": "code",
   "execution_count": 1,
   "id": "regional-involvement",
   "metadata": {},
   "outputs": [],
   "source": [
    "from geom2d import Diagram\n",
    "from geom2d import Point\n",
    "from geom2d import LineSegment\n",
    "from geom2d import Triangle\n",
    "from phytrip import Triple"
   ]
  },
  {
   "cell_type": "markdown",
   "id": "adopted-gravity",
   "metadata": {},
   "source": [
    "The new class is Diagram, which is used to actually represent our diagram, the remaining classes represent what we will be drawing, and this included Triples. We will get to those in time.\n",
    "\n",
    "Firstle we declare an instance of the Diagram class, using the default arguments."
   ]
  },
  {
   "cell_type": "code",
   "execution_count": 2,
   "id": "nuclear-falls",
   "metadata": {},
   "outputs": [],
   "source": [
    "diagram = Diagram()"
   ]
  },
  {
   "cell_type": "markdown",
   "id": "waiting-anger",
   "metadata": {},
   "source": [
    "That's all there is to it. This creates an instance of the Diagram class, with nothing in it. We can actually draw it, using the draw() method."
   ]
  },
  {
   "cell_type": "code",
   "execution_count": 3,
   "id": "familiar-blind",
   "metadata": {},
   "outputs": [
    {
     "data": {
      "image/png": "[encoded data removed]",
      "text/plain": [
       "<Figure size 576x576 with 1 Axes>"
      ]
     },
     "metadata": {
      "needs_background": "light"
     },
     "output_type": "display_data"
    }
   ],
   "source": [
    "diagram.draw()"
   ]
  },
  {
   "cell_type": "markdown",
   "id": "cellular-diamond",
   "metadata": {},
   "source": [
    "Here we see a diagram which extends from -5 to 5 in the x and y directions, with a grid drawn every 2 units on the x and y axes. I have tried to get a smaller grid, every 1 unit, but the matplotlib software takes a little time to get used to.\n",
    "\n",
    "### Drawing Points ###\n",
    "So let's actually put something in our drawing.\n",
    "\n",
    "We will start with a simple point at (1, 1)."
   ]
  },
  {
   "cell_type": "code",
   "execution_count": 4,
   "id": "previous-excuse",
   "metadata": {},
   "outputs": [
    {
     "name": "stdout",
     "output_type": "stream",
     "text": [
      "Point(1, 1)\n"
     ]
    }
   ],
   "source": [
    "p = Point(1,1)\n",
    "print(p)"
   ]
  },
  {
   "cell_type": "markdown",
   "id": "infinite-dependence",
   "metadata": {},
   "source": [
    "To add this point to the diagram we use the add() method as follows. Then we use draw() again."
   ]
  },
  {
   "cell_type": "code",
   "execution_count": 5,
   "id": "suitable-painting",
   "metadata": {},
   "outputs": [
    {
     "data": {
      "image/png": "[encoded data removed]",
      "text/plain": [
       "<Figure size 576x576 with 1 Axes>"
      ]
     },
     "metadata": {
      "needs_background": "light"
     },
     "output_type": "display_data"
    }
   ],
   "source": [
    "diagram.add(p)\n",
    "diagram.draw()"
   ]
  },
  {
   "cell_type": "markdown",
   "id": "assured-greensboro",
   "metadata": {},
   "source": [
    "So here we have a solid blue circle at (1,1) representing the point. Note that all geometrical objects will have default settings in colour, weight of lines, etc. for the moment.\n",
    "\n",
    "So what can we do with the point. Not a lot you may think, but we can rotate it and translate it.\n",
    "\n",
    "Firstly we rotate by $45^o$ around the origin, where the positive direction for rotation is anti-clockwise, the normal way that angles are specified in geometry."
   ]
  },
  {
   "cell_type": "code",
   "execution_count": 6,
   "id": "exotic-drunk",
   "metadata": {},
   "outputs": [
    {
     "name": "stdout",
     "output_type": "stream",
     "text": [
      "Point(1.1102230246251565e-16, 1.414213562373095)\n"
     ]
    },
    {
     "data": {
      "image/png": "[encoded data removed]",
      "text/plain": [
       "<Figure size 576x576 with 1 Axes>"
      ]
     },
     "metadata": {
      "needs_background": "light"
     },
     "output_type": "display_data"
    }
   ],
   "source": [
    "p_rot = p.rotate(45)\n",
    "print(p_rot)\n",
    "diagram.add(p_rot)\n",
    "diagram.draw()"
   ]
  },
  {
   "cell_type": "markdown",
   "id": "imported-northeast",
   "metadata": {},
   "source": [
    "So here we have a new point, also blue but on the y-axis. In time I will develop a simple method of changing a points colour, so that it is easier to reference them.\n",
    "\n",
    "Let's move on to translating the original point by a specific amount. This amount is specified by a Point which represents the head of the translation vector. We use the translate() method as shown below, to translate the point by (1,-1)."
   ]
  },
  {
   "cell_type": "code",
   "execution_count": 7,
   "id": "general-thanksgiving",
   "metadata": {},
   "outputs": [
    {
     "name": "stdout",
     "output_type": "stream",
     "text": [
      "Point(2, 0)\n"
     ]
    },
    {
     "data": {
      "image/png": "[encoded data removed]",
      "text/plain": [
       "<Figure size 576x576 with 1 Axes>"
      ]
     },
     "metadata": {
      "needs_background": "light"
     },
     "output_type": "display_data"
    }
   ],
   "source": [
    "p_tran = p.translate(Point(1, -1))\n",
    "print(p_tran)\n",
    "diagram.add(p_tran)\n",
    "diagram.draw()"
   ]
  },
  {
   "cell_type": "markdown",
   "id": "statutory-prague",
   "metadata": {},
   "source": [
    "Note that geometrical objects, Points in this case, are simply added to the previous diagram. \n",
    "\n",
    "### Drawing LineSegments ###\n",
    "\n",
    "To start again for LineSegments, we simply create a new diagram."
   ]
  },
  {
   "cell_type": "code",
   "execution_count": 8,
   "id": "falling-violation",
   "metadata": {},
   "outputs": [],
   "source": [
    "diagram = Diagram()"
   ]
  },
  {
   "cell_type": "markdown",
   "id": "olympic-pressing",
   "metadata": {},
   "source": [
    "Then we create a LineSegment and add it to the diagram."
   ]
  },
  {
   "cell_type": "code",
   "execution_count": 9,
   "id": "attached-arrangement",
   "metadata": {},
   "outputs": [
    {
     "name": "stdout",
     "output_type": "stream",
     "text": [
      "LineSegment(Point(0, 0), Point(1, 1))\n"
     ]
    },
    {
     "data": {
      "image/png": "[encoded data removed]",
      "text/plain": [
       "<Figure size 576x576 with 1 Axes>"
      ]
     },
     "metadata": {
      "needs_background": "light"
     },
     "output_type": "display_data"
    }
   ],
   "source": [
    "l = LineSegment(Point(0,0), Point(1,1))\n",
    "print(l)\n",
    "diagram.add(l)\n",
    "diagram.draw()"
   ]
  },
  {
   "cell_type": "markdown",
   "id": "included-latin",
   "metadata": {},
   "source": [
    "So here we get a line segment from the origin (0,0) to (1,1), with the endpoints drawn as above. That is the default behaviour at the moment.\n",
    "\n",
    "Again we can rotate and translate the line segment, as with points."
   ]
  },
  {
   "cell_type": "code",
   "execution_count": 10,
   "id": "cultural-interference",
   "metadata": {},
   "outputs": [
    {
     "name": "stdout",
     "output_type": "stream",
     "text": [
      "LineSegment(Point(0.0, 0.0), Point(-0.3660254037844385, 1.3660254037844388))\n",
      "LineSegment(Point(1, -1), Point(2, 0))\n"
     ]
    },
    {
     "data": {
      "image/png": "[encoded data removed]",
      "text/plain": [
       "<Figure size 576x576 with 1 Axes>"
      ]
     },
     "metadata": {
      "needs_background": "light"
     },
     "output_type": "display_data"
    }
   ],
   "source": [
    "l_rot = l.rotate(60)\n",
    "l_trans = l.translate(Point(1, -1))\n",
    "print(l_rot)\n",
    "print(l_trans)\n",
    "diagram.add_many([l_rot, l_trans])\n",
    "diagram.draw()"
   ]
  },
  {
   "cell_type": "markdown",
   "id": "brutal-presence",
   "metadata": {},
   "source": [
    "Note the use of the add_many() method to add more than one object to the diagram at a time. The objects are put in a list. Play around with this to see that translation and rotation actually work as expected. If at any time the diagrams become full of unexpecetd objects, just press the fastforward button in the menu bar above to reset the evaluation kernel.\n",
    "\n",
    "### Drawing Triangles ###\n",
    "\n",
    "So let's move on to triangles. As before we clear the diagram, by creating a new instance."
   ]
  },
  {
   "cell_type": "code",
   "execution_count": 11,
   "id": "massive-sweet",
   "metadata": {},
   "outputs": [],
   "source": [
    "diagram = Diagram()"
   ]
  },
  {
   "cell_type": "markdown",
   "id": "statutory-concept",
   "metadata": {},
   "source": [
    "We create a triangle add it to the drawing and draw the drawing.."
   ]
  },
  {
   "cell_type": "code",
   "execution_count": 12,
   "id": "central-vector",
   "metadata": {},
   "outputs": [
    {
     "name": "stdout",
     "output_type": "stream",
     "text": [
      "Triangle(Point(0, 0), Point(3, 0), Point(3, 4))\n"
     ]
    },
    {
     "data": {
      "image/png": "[encoded data removed]",
      "text/plain": [
       "<Figure size 576x576 with 1 Axes>"
      ]
     },
     "metadata": {
      "needs_background": "light"
     },
     "output_type": "display_data"
    }
   ],
   "source": [
    "t = Triangle(Point(0, 0), Point(3, 0), Point(3, 4))\n",
    "print(t)\n",
    "diagram.add(t)\n",
    "diagram.draw()"
   ]
  },
  {
   "cell_type": "markdown",
   "id": "statewide-cycling",
   "metadata": {},
   "source": [
    "We can add sides to the triangle as follows."
   ]
  },
  {
   "cell_type": "code",
   "execution_count": 13,
   "id": "tight-average",
   "metadata": {},
   "outputs": [
    {
     "name": "stdout",
     "output_type": "stream",
     "text": [
      "(LineSegment(Point(0, 0), Point(3, 0)), LineSegment(Point(3, 0), Point(3, 4)), LineSegment(Point(3, 4), Point(0, 0)))\n"
     ]
    }
   ],
   "source": [
    "sides = t.sides()\n",
    "print(sides)"
   ]
  },
  {
   "cell_type": "code",
   "execution_count": 14,
   "id": "desperate-murray",
   "metadata": {},
   "outputs": [
    {
     "data": {
      "image/png": "[encoded data removed]",
      "text/plain": [
       "<Figure size 576x576 with 1 Axes>"
      ]
     },
     "metadata": {
      "needs_background": "light"
     },
     "output_type": "display_data"
    }
   ],
   "source": [
    "diagram.add_many(sides)\n",
    "diagram.draw()"
   ]
  },
  {
   "cell_type": "markdown",
   "id": "further-cause",
   "metadata": {},
   "source": [
    "So that looks good. \n",
    "\n",
    "Now we can rotate and translate the triangle, as with Point and LineSegment objects."
   ]
  },
  {
   "cell_type": "code",
   "execution_count": 15,
   "id": "diagnostic-trinity",
   "metadata": {},
   "outputs": [
    {
     "name": "stdout",
     "output_type": "stream",
     "text": [
      "Triangle(Point(0.0, 0.0), Point(2.121320343559643, 2.1213203435596424), Point(-0.707106781186547, 4.949747468305833))\n",
      "Triangle(Point(1, -1), Point(4, -1), Point(4, 3))\n"
     ]
    },
    {
     "data": {
      "image/png": "[encoded data removed]",
      "text/plain": [
       "<Figure size 576x576 with 1 Axes>"
      ]
     },
     "metadata": {
      "needs_background": "light"
     },
     "output_type": "display_data"
    }
   ],
   "source": [
    "t_rot = t.rotate(45)\n",
    "t_trans = t.translate(Point(1, -1))\n",
    "print(t_rot)\n",
    "print(t_trans)\n",
    "diagram.add_many([t_rot, t_trans])\n",
    "diagram.draw()"
   ]
  },
  {
   "cell_type": "markdown",
   "id": "hourly-advertiser",
   "metadata": {},
   "source": [
    "Look's confusing. Needs more colour, so as to allow the referencing of different objects. It's only by experimenting and using the software that we begin to see what is necessary.\n",
    "\n",
    "### Drawing Triples ###\n",
    "\n",
    "To draw triples we need to take a two step approach. Firstly note that triples are based on the length of the sides and are not  concerned with the orientation, location or scale of the representative triangle. So we assume a canonical location for triples, located at the origin, with $0^o$ of rotation.\n",
    "\n",
    "So to draw a triple, or the triangle representing the triple, simply use the make_triangle() method as shown below. This returns a triangle representing the triple."
   ]
  },
  {
   "cell_type": "code",
   "execution_count": 16,
   "id": "delayed-acting",
   "metadata": {},
   "outputs": [
    {
     "name": "stdout",
     "output_type": "stream",
     "text": [
      "Triple(3, 4, 5)\n",
      "Triangle(Point(0.0, 0.0), Point(3.0, 0.0), Point(3.0, 4.0))\n"
     ]
    },
    {
     "data": {
      "image/png": "[encoded data removed]",
      "text/plain": [
       "<Figure size 576x576 with 1 Axes>"
      ]
     },
     "metadata": {
      "needs_background": "light"
     },
     "output_type": "display_data"
    }
   ],
   "source": [
    "diagram = Diagram()\n",
    "t = Triple(3, 4, 5)\n",
    "tt = t.make_triangle()\n",
    "print(t)\n",
    "print(tt)\n",
    "diagram.add(tt)\n",
    "diagram.draw()"
   ]
  },
  {
   "cell_type": "code",
   "execution_count": 17,
   "id": "complimentary-sessions",
   "metadata": {},
   "outputs": [
    {
     "name": "stdout",
     "output_type": "stream",
     "text": [
      "Triple(3, 4, 5)\n",
      "Triangle(Point(-2.0, -2.0), Point(-0.49999999999999956, 0.598076211353316), Point(-3.964101615137754, 2.598076211353316))\n"
     ]
    },
    {
     "data": {
      "image/png": "[encoded data removed]",
      "text/plain": [
       "<Figure size 576x576 with 1 Axes>"
      ]
     },
     "metadata": {
      "needs_background": "light"
     },
     "output_type": "display_data"
    }
   ],
   "source": [
    "diagram = Diagram()\n",
    "t = Triple(3, 4, 5)\n",
    "tt = t.make_triangle(theta=60, vec=Point(-2, -2))\n",
    "print(t)\n",
    "print(tt)\n",
    "diagram.add(tt)\n",
    "diagram.draw()"
   ]
  },
  {
   "cell_type": "markdown",
   "id": "imported-september",
   "metadata": {},
   "source": [
    "In the above example, the triangle tt representing the triple is first rotated around the origin by $60^o$, then it is translated from the origin by the vector represented by Point(-2, -2).\n",
    "\n",
    "So that's all there is at the moment. Next I will develop the ability to have a little more colour in the diagrams."
   ]
  },
  {
   "cell_type": "code",
   "execution_count": null,
   "id": "transparent-moderator",
   "metadata": {},
   "outputs": [],
   "source": []
  }
 ],
 "metadata": {
  "kernelspec": {
   "display_name": "Python 3",
   "language": "python",
   "name": "python3"
  },
  "language_info": {
   "codemirror_mode": {
    "name": "ipython",
    "version": 3
   },
   "file_extension": ".py",
   "mimetype": "text/x-python",
   "name": "python",
   "nbconvert_exporter": "python",
   "pygments_lexer": "ipython3",
   "version": "3.9.1"
  }
 },
 "nbformat": 4,
 "nbformat_minor": 5
}
