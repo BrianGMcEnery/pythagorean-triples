{
 "cells": [
  {
   "cell_type": "markdown",
   "id": "explicit-collect",
   "metadata": {},
   "source": [
    "## This is an Experimental Notebook\n",
    "\n",
    "This is similar to a sandbox for developing drawing capablilties."
   ]
  },
  {
   "cell_type": "code",
   "execution_count": null,
   "id": "structural-balloon",
   "metadata": {},
   "outputs": [],
   "source": []
  }
 ],
 "metadata": {
  "kernelspec": {
   "display_name": "Python 3",
   "language": "python",
   "name": "python3"
  },
  "language_info": {
   "codemirror_mode": {
    "name": "ipython",
    "version": 3
   },
   "file_extension": ".py",
   "mimetype": "text/x-python",
   "name": "python",
   "nbconvert_exporter": "python",
   "pygments_lexer": "ipython3",
   "version": "3.9.1"
  }
 },
 "nbformat": 4,
 "nbformat_minor": 5
}
