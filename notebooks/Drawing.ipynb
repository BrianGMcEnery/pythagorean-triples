{
 "cells": [
  {
   "cell_type": "markdown",
   "id": "taken-parliament",
   "metadata": {},
   "source": [
    "## This is an Experimental Notebook\n",
    "\n",
    "This is similar to a sandbox for developing drawing capablilties."
   ]
  },
  {
   "cell_type": "code",
   "execution_count": 1,
   "id": "greatest-symposium",
   "metadata": {},
   "outputs": [],
   "source": [
    "from geom2d import Diagram\n",
    "from geom2d import Point\n",
    "from geom2d import LineSegment\n",
    "from geom2d import Triangle\n",
    "from geom2d import Rectangle\n",
    "from geom2d import Circle\n",
    "from geom2d import Polygon\n",
    "from phytrip import Triple"
   ]
  },
  {
   "cell_type": "code",
   "execution_count": 2,
   "id": "express-lingerie",
   "metadata": {},
   "outputs": [
    {
     "name": "stdout",
     "output_type": "stream",
     "text": [
      "Polygon([Point(0, 0), Point(1, 0), Point(1, 1), Point(0, 1)])\n"
     ]
    }
   ],
   "source": [
    "p = Polygon([Point(0,0), Point(1,0), Point(1,2), Point(0,1)])\n",
    "print(p)"
   ]
  },
  {
   "cell_type": "code",
   "execution_count": 3,
   "id": "accurate-discrimination",
   "metadata": {},
   "outputs": [
    {
     "name": "stdout",
     "output_type": "stream",
     "text": [
      "(LineSegment(Point(0, 0), Point(1, 0)), LineSegment(Point(1, 0), Point(1, 1)), LineSegment(Point(1, 1), Point(0, 1)), LineSegment(Point(0, 1), Point(0, 0)))\n"
     ]
    }
   ],
   "source": [
    "print(p.sides())"
   ]
  },
  {
   "cell_type": "code",
   "execution_count": 4,
   "id": "outstanding-agent",
   "metadata": {},
   "outputs": [
    {
     "name": "stdout",
     "output_type": "stream",
     "text": [
      "Polygon([Point(0.0, 0.0), Point(0.7071067811865476, 0.7071067811865475), Point(1.1102230246251565e-16, 1.414213562373095), Point(-0.7071067811865475, 0.7071067811865476)])\n"
     ]
    }
   ],
   "source": [
    "p_rot = p.rotate(45)\n",
    "print(p_rot)"
   ]
  },
  {
   "cell_type": "code",
   "execution_count": 5,
   "id": "photographic-visitor",
   "metadata": {},
   "outputs": [
    {
     "name": "stdout",
     "output_type": "stream",
     "text": [
      "Polygon([Point(1, 1), Point(2, 1), Point(2, 2), Point(1, 2)])\n"
     ]
    }
   ],
   "source": [
    "p_tran = p.translate(Point(1,1))\n",
    "print(p_tran)"
   ]
  },
  {
   "cell_type": "code",
   "execution_count": 6,
   "id": "instructional-search",
   "metadata": {},
   "outputs": [
    {
     "data": {
      "image/png": "[encoded data removed]",
      "text/plain": [
       "<Figure size 576x576 with 1 Axes>"
      ]
     },
     "metadata": {
      "needs_background": "light"
     },
     "output_type": "display_data"
    }
   ],
   "source": [
    "diagram = Diagram()\n",
    "diagram.add(p)\n",
    "diagram.draw()"
   ]
  },
  {
   "cell_type": "code",
   "execution_count": null,
   "id": "engaged-dealing",
   "metadata": {},
   "outputs": [],
   "source": []
  }
 ],
 "metadata": {
  "kernelspec": {
   "display_name": "Python 3",
   "language": "python",
   "name": "python3"
  },
  "language_info": {
   "codemirror_mode": {
    "name": "ipython",
    "version": 3
   },
   "file_extension": ".py",
   "mimetype": "text/x-python",
   "name": "python",
   "nbconvert_exporter": "python",
   "pygments_lexer": "ipython3",
   "version": "3.9.1"
  }
 },
 "nbformat": 4,
 "nbformat_minor": 5
}
