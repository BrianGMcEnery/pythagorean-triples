{
 "cells": [
  {
   "cell_type": "markdown",
   "id": "upset-steel",
   "metadata": {},
   "source": [
    "## This is an Experimental Notebook\n",
    "\n",
    "This is similar to a sandbox for developing drawing capablilties."
   ]
  },
  {
   "cell_type": "code",
   "execution_count": 1,
   "id": "national-encounter",
   "metadata": {},
   "outputs": [],
   "source": [
    "from geom2d import Diagram\n",
    "from geom2d import Point\n",
    "from geom2d import LineSegment\n",
    "from geom2d import Triangle\n",
    "from geom2d import Rectangle\n",
    "from geom2d import Circle\n",
    "from geom2d import Polygon\n",
    "from phytrip import Triple"
   ]
  },
  {
   "cell_type": "code",
   "execution_count": 2,
   "id": "abstract-province",
   "metadata": {},
   "outputs": [
    {
     "name": "stdout",
     "output_type": "stream",
     "text": [
      "Polygon([Point(0, 0), Point(1, 0), Point(1, 2), Point(0, 1)])\n"
     ]
    }
   ],
   "source": [
    "p = Polygon([Point(0,0), Point(1,0), Point(1,2), Point(0,1)])\n",
    "print(p)"
   ]
  },
  {
   "cell_type": "code",
   "execution_count": 3,
   "id": "vital-anatomy",
   "metadata": {},
   "outputs": [
    {
     "name": "stdout",
     "output_type": "stream",
     "text": [
      "(LineSegment(Point(0, 0), Point(1, 0)), LineSegment(Point(1, 0), Point(1, 2)), LineSegment(Point(1, 2), Point(0, 1)), LineSegment(Point(0, 1), Point(0, 0)))\n"
     ]
    }
   ],
   "source": [
    "print(p.sides())"
   ]
  },
  {
   "cell_type": "code",
   "execution_count": 4,
   "id": "irish-pierce",
   "metadata": {},
   "outputs": [
    {
     "name": "stdout",
     "output_type": "stream",
     "text": [
      "Polygon([Point(0.0, 0.0), Point(6.123233995736766e-17, 1.0), Point(-2.0, 1.0000000000000002), Point(-1.0, 6.123233995736766e-17)])\n"
     ]
    }
   ],
   "source": [
    "p_rot = p.rotate(90)\n",
    "p_rot.set_color('red')\n",
    "print(p_rot)"
   ]
  },
  {
   "cell_type": "code",
   "execution_count": 5,
   "id": "constant-cabinet",
   "metadata": {},
   "outputs": [
    {
     "name": "stdout",
     "output_type": "stream",
     "text": [
      "Polygon([Point(1, 1), Point(2, 1), Point(2, 3), Point(1, 2)])\n"
     ]
    }
   ],
   "source": [
    "p_tran = p.translate(Point(2,2))\n",
    "p_tran.set_color('green')\n",
    "print(p_tran)"
   ]
  },
  {
   "cell_type": "code",
   "execution_count": 6,
   "id": "descending-aurora",
   "metadata": {},
   "outputs": [
    {
     "data": {
      "image/png": "[encoded data removed]",
      "text/plain": [
       "<Figure size 576x576 with 1 Axes>"
      ]
     },
     "metadata": {
      "needs_background": "light"
     },
     "output_type": "display_data"
    }
   ],
   "source": [
    "diagram = Diagram()\n",
    "diagram.add_many([p, p_rot, p_tran])\n",
    "diagram.draw()"
   ]
  },
  {
   "cell_type": "code",
   "execution_count": null,
   "id": "embedded-agent",
   "metadata": {},
   "outputs": [],
   "source": []
  }
 ],
 "metadata": {
  "kernelspec": {
   "display_name": "Python 3",
   "language": "python",
   "name": "python3"
  },
  "language_info": {
   "codemirror_mode": {
    "name": "ipython",
    "version": 3
   },
   "file_extension": ".py",
   "mimetype": "text/x-python",
   "name": "python",
   "nbconvert_exporter": "python",
   "pygments_lexer": "ipython3",
   "version": "3.9.1"
  }
 },
 "nbformat": 4,
 "nbformat_minor": 5
}
