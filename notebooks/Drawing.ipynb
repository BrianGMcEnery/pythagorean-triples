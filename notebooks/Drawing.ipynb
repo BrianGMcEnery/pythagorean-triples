{
 "cells": [
  {
   "cell_type": "markdown",
   "id": "willing-wildlife",
   "metadata": {},
   "source": [
    "## This is an Experimental Notebook\n",
    "\n",
    "This is similar to a sandbox for developing drawing capablilties."
   ]
  },
  {
   "cell_type": "code",
   "execution_count": 1,
   "id": "confident-alfred",
   "metadata": {},
   "outputs": [],
   "source": [
    "from geom2d import Diagram\n",
    "from geom2d import Point\n",
    "from geom2d import LineSegment\n",
    "from geom2d import Triangle\n",
    "from geom2d import Rectangle\n",
    "from geom2d import Circle\n",
    "from geom2d import Polygon\n",
    "from geom2d import Ellipse\n",
    "from phytrip import Triple"
   ]
  },
  {
   "cell_type": "code",
   "execution_count": 2,
   "id": "green-wireless",
   "metadata": {},
   "outputs": [
    {
     "name": "stdout",
     "output_type": "stream",
     "text": [
      "Polygon([Point(0, 0), Point(1, 0), Point(1, 2), Point(0, 1)])\n"
     ]
    }
   ],
   "source": [
    "p = Polygon([Point(0,0), Point(1,0), Point(1,2), Point(0,1)])\n",
    "print(p)"
   ]
  },
  {
   "cell_type": "code",
   "execution_count": 3,
   "id": "great-sponsorship",
   "metadata": {},
   "outputs": [
    {
     "name": "stdout",
     "output_type": "stream",
     "text": [
      "(LineSegment(Point(0, 0), Point(1, 0)), LineSegment(Point(1, 0), Point(1, 2)), LineSegment(Point(1, 2), Point(0, 1)), LineSegment(Point(0, 1), Point(0, 0)))\n"
     ]
    }
   ],
   "source": [
    "print(p.sides())"
   ]
  },
  {
   "cell_type": "code",
   "execution_count": 4,
   "id": "difficult-wiring",
   "metadata": {},
   "outputs": [
    {
     "name": "stdout",
     "output_type": "stream",
     "text": [
      "Polygon([Point(0.0, 0.0), Point(6.123233995736766e-17, 1.0), Point(-2.0, 1.0000000000000002), Point(-1.0, 6.123233995736766e-17)])\n"
     ]
    }
   ],
   "source": [
    "p_rot = p.rotate(90)\n",
    "p_rot.set_color('red')\n",
    "print(p_rot)"
   ]
  },
  {
   "cell_type": "code",
   "execution_count": 5,
   "id": "practical-combine",
   "metadata": {},
   "outputs": [
    {
     "name": "stdout",
     "output_type": "stream",
     "text": [
      "Polygon([Point(2, 2), Point(3, 2), Point(3, 4), Point(2, 3)])\n"
     ]
    }
   ],
   "source": [
    "p_tran = p.translate(Point(2,2))\n",
    "p_tran.set_color('green')\n",
    "print(p_tran)"
   ]
  },
  {
   "cell_type": "code",
   "execution_count": 6,
   "id": "supported-literacy",
   "metadata": {},
   "outputs": [
    {
     "data": {
      "image/png": "[encoded data removed]",
      "text/plain": [
       "<Figure size 576x576 with 1 Axes>"
      ]
     },
     "metadata": {
      "needs_background": "light"
     },
     "output_type": "display_data"
    }
   ],
   "source": [
    "diagram = Diagram()\n",
    "diagram.add_many([p, p_rot, p_tran])\n",
    "diagram.draw()"
   ]
  },
  {
   "cell_type": "code",
   "execution_count": 7,
   "id": "killing-brighton",
   "metadata": {},
   "outputs": [
    {
     "name": "stdout",
     "output_type": "stream",
     "text": [
      "Ellipse(Point(1, 1), 2, 1, 45)\n",
      "Ellipse(Point(1.1102230246251565e-16, 1.414213562373095), 2, 1, 90)\n"
     ]
    }
   ],
   "source": [
    "e = Ellipse(Point(1,1), 2, 1, 45)\n",
    "e_rot = e.rotate(45)\n",
    "e_rot.set_color('green')\n",
    "print(e)\n",
    "print(e_rot)"
   ]
  },
  {
   "cell_type": "code",
   "execution_count": 8,
   "id": "charitable-lodge",
   "metadata": {},
   "outputs": [
    {
     "data": {
      "image/png": "[encoded data removed]",
      "text/plain": [
       "<Figure size 576x576 with 1 Axes>"
      ]
     },
     "metadata": {
      "needs_background": "light"
     },
     "output_type": "display_data"
    }
   ],
   "source": [
    "diagram = Diagram()\n",
    "r = Rectangle(Point(2,2),  Point(3,3))\n",
    "r_rot = r.rotate(45)\n",
    "r_rot.set_color('green')\n",
    "diagram.add_many([e, e_rot, r, r_rot])\n",
    "\n",
    "diagram.draw()"
   ]
  },
  {
   "cell_type": "code",
   "execution_count": null,
   "id": "coupled-serial",
   "metadata": {},
   "outputs": [],
   "source": []
  }
 ],
 "metadata": {
  "kernelspec": {
   "display_name": "Python 3",
   "language": "python",
   "name": "python3"
  },
  "language_info": {
   "codemirror_mode": {
    "name": "ipython",
    "version": 3
   },
   "file_extension": ".py",
   "mimetype": "text/x-python",
   "name": "python",
   "nbconvert_exporter": "python",
   "pygments_lexer": "ipython3",
   "version": "3.9.1"
  }
 },
 "nbformat": 4,
 "nbformat_minor": 5
}
