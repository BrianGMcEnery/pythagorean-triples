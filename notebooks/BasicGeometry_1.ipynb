{
 "cells": [
  {
   "attachments": {
    "d8322a51-9733-460f-8954-7d5a620d1658.png": {
     "image/png": "[encoded data removed]"
    }
   },
   "cell_type": "markdown",
   "id": "secret-strap",
   "metadata": {},
   "source": [
    "![Fast Forward.png](attachment:d8322a51-9733-460f-8954-7d5a620d1658.png)"
   ]
  },
  {
   "cell_type": "markdown",
   "id": "gross-footage",
   "metadata": {},
   "source": [
    "# Basic Geometry 1\n",
    "\n",
    "*Brian G. Mc Enery*"
   ]
  },
  {
   "cell_type": "markdown",
   "id": "executed-invention",
   "metadata": {},
   "source": [
    "### Developing a Geometry Package"
   ]
  },
  {
   "cell_type": "markdown",
   "id": "accessible-turning",
   "metadata": {},
   "source": [
    "In order to use the Triple and CodeNumber classes it is necessary to begin to develop classes, methods and functions to both draw geometrical objects and to compute geometrical processes. To this end I am writing a **Python** package called **geom2d** which has the very basics of the geometry of a point and a line segment. In order to use these classes we must first import them from the package."
   ]
  },
  {
   "cell_type": "code",
   "execution_count": 1,
   "id": "starting-layer",
   "metadata": {},
   "outputs": [],
   "source": [
    "from geom2d import Point, LineSegment"
   ]
  },
  {
   "cell_type": "markdown",
   "id": "saving-nigeria",
   "metadata": {},
   "source": [
    "As we notice, a point consists of two values, the x and y coordinates, and a line segment consists of two points, one at either end. These may be drawn as follows."
   ]
  },
  {
   "attachments": {
    "eb163b67-233d-4b08-9b9b-a3a944daa35f.png": {
     "image/png": "[encoded data removed]"
    }
   },
   "cell_type": "markdown",
   "id": "differential-blackjack",
   "metadata": {},
   "source": [
    "![Basic Geometry 1.png](attachment:eb163b67-233d-4b08-9b9b-a3a944daa35f.png)"
   ]
  },
  {
   "cell_type": "markdown",
   "id": "complete-uniform",
   "metadata": {},
   "source": [
    "We may use the class definitions to create objects of type Point and LineSegment as follows."
   ]
  },
  {
   "cell_type": "code",
   "execution_count": 2,
   "id": "searching-nicholas",
   "metadata": {},
   "outputs": [
    {
     "name": "stdout",
     "output_type": "stream",
     "text": [
      "Point(2, 3)\n"
     ]
    }
   ],
   "source": [
    "a = Point(2, 3)\n",
    "print(a)"
   ]
  },
  {
   "cell_type": "code",
   "execution_count": 3,
   "id": "proof-corner",
   "metadata": {},
   "outputs": [
    {
     "name": "stdout",
     "output_type": "stream",
     "text": [
      "LineSegment(Point(3, 4), Point(5, 6))\n"
     ]
    }
   ],
   "source": [
    "p1 = Point(3, 4)\n",
    "p2 = Point(5, 6)\n",
    "l = LineSegment(p1, p2)\n",
    "print(l)"
   ]
  },
  {
   "cell_type": "markdown",
   "id": "tight-frost",
   "metadata": {},
   "source": [
    "Notice that this is very *Mathematica* like in it's structure.\n",
    "\n",
    "So what can we do with these objects at present. Not a lot at this time of writing, but I know that this will change.\n",
    "\n",
    "One of the first methods I developed for the Point class was the ability to get the distance between two points. This is then used by the LineSegment class to get the length of a LineSegment object.\n",
    "\n",
    "So let's make sure that the points and linesegment are still defined as before. Just print them out."
   ]
  },
  {
   "cell_type": "code",
   "execution_count": 4,
   "id": "divided-simon",
   "metadata": {},
   "outputs": [
    {
     "name": "stdout",
     "output_type": "stream",
     "text": [
      "Point(3, 4) Point(5, 6) LineSegment(Point(3, 4), Point(5, 6))\n"
     ]
    }
   ],
   "source": [
    "print(p1, p2, l)"
   ]
  },
  {
   "cell_type": "markdown",
   "id": "diverse-mexico",
   "metadata": {},
   "source": [
    "Now let's get the distance between p1 and p2."
   ]
  },
  {
   "cell_type": "code",
   "execution_count": 5,
   "id": "blond-ghost",
   "metadata": {},
   "outputs": [
    {
     "name": "stdout",
     "output_type": "stream",
     "text": [
      "2.8284271247461903\n"
     ]
    }
   ],
   "source": [
    "d = p1.dist(p2)\n",
    "print(d)"
   ]
  },
  {
   "cell_type": "markdown",
   "id": "weighted-relief",
   "metadata": {},
   "source": [
    "This should equal the length of the linesegment l."
   ]
  },
  {
   "cell_type": "code",
   "execution_count": 6,
   "id": "earlier-cartridge",
   "metadata": {},
   "outputs": [
    {
     "name": "stdout",
     "output_type": "stream",
     "text": [
      "2.8284271247461903\n"
     ]
    }
   ],
   "source": [
    "len = l.length()\n",
    "print(len)"
   ]
  },
  {
   "cell_type": "markdown",
   "id": "green-nancy",
   "metadata": {},
   "source": [
    "The next method I implemented was to determine when a line l segment contains a point p. So let's see how to write this in Python, not the Python code for the method, but the way of calling the method. Firstly we will set up a new line, and a point which I know is in the line."
   ]
  },
  {
   "cell_type": "code",
   "execution_count": 7,
   "id": "british-darkness",
   "metadata": {},
   "outputs": [
    {
     "data": {
      "text/plain": [
       "True"
      ]
     },
     "execution_count": 7,
     "metadata": {},
     "output_type": "execute_result"
    }
   ],
   "source": [
    "l = LineSegment(Point(2, 3), Point(4, 5))\n",
    "p = Point(3, 4)\n",
    "l.contains_point(p)"
   ]
  },
  {
   "cell_type": "markdown",
   "id": "intelligent-nursery",
   "metadata": {},
   "source": [
    "See what happens if you change the point p to Point(4,4) in the above cell.\n",
    "\n",
    "In determining whether or not a point is in a line-segment I had to make use of the basic formulae based on $y = m x + c$, where $m$ is the slope of the line and $c$ is the y-intercept, where the extended line segment crosses the y-axis. To this end there are two functions to calculate the slope of a line, and the y-intercept. They are called very simply."
   ]
  },
  {
   "cell_type": "code",
   "execution_count": 8,
   "id": "vocational-upset",
   "metadata": {},
   "outputs": [
    {
     "name": "stdout",
     "output_type": "stream",
     "text": [
      "1.0 Point(0, 1.0)\n"
     ]
    }
   ],
   "source": [
    "l = LineSegment(Point(2, 3), Point(4, 5))\n",
    "m = l.slope()\n",
    "c = l.y_intercept()\n",
    "print(m, c)"
   ]
  },
  {
   "cell_type": "markdown",
   "id": "handmade-ecology",
   "metadata": {},
   "source": [
    "Finally we have a method, orientation(), which returns a dictionary indicating the orientation of the line segment, where a True value indicates a positive x or y orientation. This will allow us to consider directed line segments as vectors in 2-d. Play around with the orientation method below."
   ]
  },
  {
   "cell_type": "code",
   "execution_count": 9,
   "id": "assured-motor",
   "metadata": {},
   "outputs": [
    {
     "data": {
      "text/plain": [
       "{'x': True, 'y': True}"
      ]
     },
     "execution_count": 9,
     "metadata": {},
     "output_type": "execute_result"
    }
   ],
   "source": [
    "l = LineSegment(Point(2, 3), Point(4, 5))\n",
    "l.orientation()"
   ]
  },
  {
   "cell_type": "code",
   "execution_count": 10,
   "id": "macro-hardwood",
   "metadata": {},
   "outputs": [
    {
     "data": {
      "text/plain": [
       "{'x': False, 'y': False}"
      ]
     },
     "execution_count": 10,
     "metadata": {},
     "output_type": "execute_result"
    }
   ],
   "source": [
    "l = LineSegment(Point(4, 5), Point(2, 3))\n",
    "l.orientation()"
   ]
  },
  {
   "cell_type": "markdown",
   "id": "headed-arizona",
   "metadata": {},
   "source": [
    "Notice how the orientation changes as we change the order of the points, that's because in the second case our line is oriented towards the origin. See for yourself what happens in other quadrants."
   ]
  },
  {
   "cell_type": "markdown",
   "id": "intended-player",
   "metadata": {},
   "source": [
    "Ok, so that's enough for the moment. Let's summarise a little,\n",
    "* we import the Point and LineSegment classes from geom2d\n",
    "* we can create Point objects by passing the x and y arguments\n",
    "* we create LineSegment objects by passing two points as arguments\n",
    "* we can find the distance between two points and the length of a line\n",
    "* we can determine whether or not a LineSegment contains a Point \n",
    "* we can find the slope and y-intercept of a LineSegment\n",
    "* and we can find the orientation of a LineSegment."
   ]
  },
  {
   "cell_type": "markdown",
   "id": "armed-modification",
   "metadata": {},
   "source": [
    "That's quite a lot really with just a few simple methods."
   ]
  },
  {
   "cell_type": "code",
   "execution_count": null,
   "id": "classified-deployment",
   "metadata": {},
   "outputs": [],
   "source": []
  }
 ],
 "metadata": {
  "kernelspec": {
   "display_name": "Python 3",
   "language": "python",
   "name": "python3"
  },
  "language_info": {
   "codemirror_mode": {
    "name": "ipython",
    "version": 3
   },
   "file_extension": ".py",
   "mimetype": "text/x-python",
   "name": "python",
   "nbconvert_exporter": "python",
   "pygments_lexer": "ipython3",
   "version": "3.9.1"
  }
 },
 "nbformat": 4,
 "nbformat_minor": 5
}
