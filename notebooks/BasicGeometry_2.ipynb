{
 "cells": [
  {
   "attachments": {
    "ad63fe5b-c399-416b-9225-b3f01181198b.png": {
     "image/png": "[encoded data removed]"
    }
   },
   "cell_type": "markdown",
   "id": "associate-scheme",
   "metadata": {},
   "source": [
    "![Fast Forward.png](attachment:ad63fe5b-c399-416b-9225-b3f01181198b.png)"
   ]
  },
  {
   "cell_type": "markdown",
   "id": "incident-retirement",
   "metadata": {},
   "source": [
    "# Basic Geometry 2\n",
    "\n",
    "*Brian G. Mc Enery*"
   ]
  },
  {
   "cell_type": "markdown",
   "id": "unlike-waters",
   "metadata": {},
   "source": [
    "### Introducing a Third Point"
   ]
  },
  {
   "cell_type": "markdown",
   "id": "tropical-queue",
   "metadata": {},
   "source": [
    "Although there is still much material to be fleshed out in relation to points and line segments, I am anxious to move forward to the land of the triples, by introducing a third point. This creates the potential for exploring the myriad properties of triangles. We shall not cover or develop everything, but just enough."
   ]
  },
  {
   "attachments": {
    "f01b9cb2-2ab8-479f-9106-cc2ea833f00c.png": {
     "image/png": "[encoded data removed]"
    }
   },
   "cell_type": "markdown",
   "id": "flush-seller",
   "metadata": {},
   "source": [
    "![Basic Geometry 2.png](attachment:f01b9cb2-2ab8-479f-9106-cc2ea833f00c.png)"
   ]
  },
  {
   "cell_type": "markdown",
   "id": "helpful-invitation",
   "metadata": {},
   "source": [
    "So, obviously, a triangle requires three points for it's description, and before we begin using them we must import them from the **geom2d** package."
   ]
  },
  {
   "cell_type": "code",
   "execution_count": 1,
   "id": "cubic-builder",
   "metadata": {},
   "outputs": [],
   "source": [
    "from geom2d import Point, LineSegment, Triangle"
   ]
  },
  {
   "cell_type": "code",
   "execution_count": 2,
   "id": "piano-graduation",
   "metadata": {},
   "outputs": [
    {
     "name": "stdout",
     "output_type": "stream",
     "text": [
      "Triangle(Point(1, 1), Point(4, 1), Point(4, 5))\n"
     ]
    }
   ],
   "source": [
    "p1 = Point(1, 1)\n",
    "p2 = Point(4, 1)\n",
    "p3 = Point(4, 5)\n",
    "t = Triangle(p1, p2, p3)\n",
    "print(t)"
   ]
  },
  {
   "cell_type": "markdown",
   "id": "palestinian-naples",
   "metadata": {},
   "source": [
    "Again we notice that the structure of an instance of a Triangle class is indeed very similar to the structure of an instance from the LineSegment class. One point to note here, is that in all the examples so far I have used integral values to define the Point instances, but they work equally well for floating point numbers.\n",
    "\n",
    "So what further behaviours of triangles are we going to develop. \n",
    "\n",
    "Firstly we can extract the vertices as a tuple of Points using a get() method, and the sides as a tuple of LineSegments."
   ]
  },
  {
   "cell_type": "code",
   "execution_count": 3,
   "id": "representative-macedonia",
   "metadata": {},
   "outputs": [
    {
     "name": "stdout",
     "output_type": "stream",
     "text": [
      "(Point(1, 1), Point(4, 1), Point(4, 5))\n"
     ]
    }
   ],
   "source": [
    "print(t.get())"
   ]
  },
  {
   "cell_type": "code",
   "execution_count": 4,
   "id": "elder-puppy",
   "metadata": {},
   "outputs": [
    {
     "name": "stdout",
     "output_type": "stream",
     "text": [
      "(LineSegment(Point(1, 1), Point(4, 1)), LineSegment(Point(4, 1), Point(4, 5)), LineSegment(Point(4, 5), Point(1, 1)))\n"
     ]
    }
   ],
   "source": [
    "print (t.sides())"
   ]
  },
  {
   "cell_type": "markdown",
   "id": "strong-preserve",
   "metadata": {},
   "source": [
    "This may seem unnecessarily verbose but such is the nature of Python."
   ]
  },
  {
   "cell_type": "markdown",
   "id": "dynamic-slovakia",
   "metadata": {},
   "source": [
    "In order to draw geometrical objects I had to develop some **Python** classes to interact with [matplotlib](https://matplotlib.org/stable/contents.html). This is developed in [Basic Geometry 3]()."
   ]
  },
  {
   "cell_type": "code",
   "execution_count": null,
   "id": "shaped-bulgaria",
   "metadata": {},
   "outputs": [],
   "source": []
  }
 ],
 "metadata": {
  "kernelspec": {
   "display_name": "Python 3",
   "language": "python",
   "name": "python3"
  },
  "language_info": {
   "codemirror_mode": {
    "name": "ipython",
    "version": 3
   },
   "file_extension": ".py",
   "mimetype": "text/x-python",
   "name": "python",
   "nbconvert_exporter": "python",
   "pygments_lexer": "ipython3",
   "version": "3.9.1"
  }
 },
 "nbformat": 4,
 "nbformat_minor": 5
}
