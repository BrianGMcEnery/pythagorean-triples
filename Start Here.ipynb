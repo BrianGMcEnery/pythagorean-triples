{
 "cells": [
  {
   "cell_type": "markdown",
   "id": "utility-enemy",
   "metadata": {},
   "source": [
    "Begin by looking at [Pythagorean Triples](PythagoreanTriples.ipynb)"
   ]
  },
  {
   "cell_type": "markdown",
   "id": "unique-forge",
   "metadata": {},
   "source": [
    "The material on [Basic Geometry 1](BasicGeometry_1.ipynb) is under development."
   ]
  },
  {
   "cell_type": "code",
   "execution_count": null,
   "id": "indoor-oracle",
   "metadata": {},
   "outputs": [],
   "source": []
  }
 ],
 "metadata": {
  "kernelspec": {
   "display_name": "Python 3",
   "language": "python",
   "name": "python3"
  },
  "language_info": {
   "codemirror_mode": {
    "name": "ipython",
    "version": 3
   },
   "file_extension": ".py",
   "mimetype": "text/x-python",
   "name": "python",
   "nbconvert_exporter": "python",
   "pygments_lexer": "ipython3",
   "version": "3.9.1"
  }
 },
 "nbformat": 4,
 "nbformat_minor": 5
}
