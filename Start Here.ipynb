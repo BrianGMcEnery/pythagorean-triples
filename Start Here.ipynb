{
 "cells": [
  {
   "cell_type": "markdown",
   "id": "ongoing-preservation",
   "metadata": {},
   "source": [
    "Begin by looking at [Pythagorean Triples](notebooks/PythagoreanTriples.ipynb)."
   ]
  },
  {
   "cell_type": "markdown",
   "id": "scientific-speech",
   "metadata": {},
   "source": [
    "This has lead to the development of [Basic Geometry 1](notebooks/BasicGeometry_1.ipynb) and [Basic Geometry 2](notebooks/BasicGeometry_2.ipynb).\n",
    "\n",
    "There is a notebook [Drawing](notebooks/Drawing.ipynb), which is where I am experimenting on drawing geometrical figures."
   ]
  },
  {
   "cell_type": "markdown",
   "id": "incorporated-connection",
   "metadata": {},
   "source": [
    "Contact by email mcenerybriang@gmail.com"
   ]
  },
  {
   "cell_type": "code",
   "execution_count": null,
   "id": "announced-worship",
   "metadata": {},
   "outputs": [],
   "source": []
  }
 ],
 "metadata": {
  "kernelspec": {
   "display_name": "Python 3",
   "language": "python",
   "name": "python3"
  },
  "language_info": {
   "codemirror_mode": {
    "name": "ipython",
    "version": 3
   },
   "file_extension": ".py",
   "mimetype": "text/x-python",
   "name": "python",
   "nbconvert_exporter": "python",
   "pygments_lexer": "ipython3",
   "version": "3.9.1"
  }
 },
 "nbformat": 4,
 "nbformat_minor": 5
}
