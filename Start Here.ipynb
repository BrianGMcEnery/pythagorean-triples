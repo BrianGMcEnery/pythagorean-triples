{
 "cells": [
  {
   "cell_type": "markdown",
   "id": "standing-joshua",
   "metadata": {},
   "source": [
    "Begin by looking at [Pythagorean Triples](notebooks/PythagoreanTriples.ipynb)."
   ]
  },
  {
   "cell_type": "markdown",
   "id": "parallel-batch",
   "metadata": {},
   "source": [
    "This has lead to the development of \n",
    "* [Basic Geometry 1](notebooks/BasicGeometry_1.ipynb) dealing with points and lines\n",
    "* [Basic Geometry 2](notebooks/BasicGeometry_2.ipynb) dealing with triangles\n",
    "* [Basic Geometry 3](notebooks/BasicGeometry_3.ipynb) dealing drawing geometrical objects\n",
    "* [Basic Geometry 4](notebooks/BasicGeometry_4.ipynb) dealing with colouring geometrical objects\n",
    "* [Basic Geometry 5](notebooks/BasicGeometry_5.ipynb) dealing with drawing rectangles and circles\n",
    "\n",
    "\n",
    "The notebook [Drawing](notebooks/Drawing.ipynb) is where I am experimenting on drawing geometrical figures."
   ]
  },
  {
   "cell_type": "markdown",
   "id": "limited-penny",
   "metadata": {},
   "source": [
    "Contact by email mcenerybriang@gmail.com"
   ]
  },
  {
   "cell_type": "code",
   "execution_count": null,
   "id": "pointed-phone",
   "metadata": {},
   "outputs": [],
   "source": []
  }
 ],
 "metadata": {
  "kernelspec": {
   "display_name": "Python 3",
   "language": "python",
   "name": "python3"
  },
  "language_info": {
   "codemirror_mode": {
    "name": "ipython",
    "version": 3
   },
   "file_extension": ".py",
   "mimetype": "text/x-python",
   "name": "python",
   "nbconvert_exporter": "python",
   "pygments_lexer": "ipython3",
   "version": "3.9.1"
  }
 },
 "nbformat": 4,
 "nbformat_minor": 5
}
