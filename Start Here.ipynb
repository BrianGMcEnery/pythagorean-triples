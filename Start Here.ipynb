{
 "cells": [
  {
   "cell_type": "markdown",
   "id": "instrumental-night",
   "metadata": {},
   "source": [
    "Begin by looking at [Pythagorean Triples](PythagoreanTriples.ipynb)."
   ]
  },
  {
   "cell_type": "markdown",
   "id": "inside-deployment",
   "metadata": {},
   "source": [
    "This has lead to the development of [Basic Geometry 1](BasicGeometry_1.ipynb) and the development of [Basic Geometry 2](BasicGeometry_2.ipynb)."
   ]
  },
  {
   "cell_type": "code",
   "execution_count": null,
   "id": "lyric-parker",
   "metadata": {},
   "outputs": [],
   "source": []
  }
 ],
 "metadata": {
  "kernelspec": {
   "display_name": "Python 3",
   "language": "python",
   "name": "python3"
  },
  "language_info": {
   "codemirror_mode": {
    "name": "ipython",
    "version": 3
   },
   "file_extension": ".py",
   "mimetype": "text/x-python",
   "name": "python",
   "nbconvert_exporter": "python",
   "pygments_lexer": "ipython3",
   "version": "3.9.1"
  }
 },
 "nbformat": 4,
 "nbformat_minor": 5
}
