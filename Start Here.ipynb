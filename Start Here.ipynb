{
 "cells": [
  {
   "cell_type": "markdown",
   "id": "increasing-mounting",
   "metadata": {},
   "source": [
    "Begin by looking at [Pythagorean Triples](PythagoreanTriples.ipynb)"
   ]
  },
  {
   "cell_type": "markdown",
   "id": "swiss-guatemala",
   "metadata": {},
   "source": [
    "The material on [Basic Geometry](BasicGeometry.ipynb) is under development."
   ]
  },
  {
   "cell_type": "code",
   "execution_count": null,
   "id": "copyrighted-commission",
   "metadata": {},
   "outputs": [],
   "source": []
  }
 ],
 "metadata": {
  "kernelspec": {
   "display_name": "Python 3",
   "language": "python",
   "name": "python3"
  },
  "language_info": {
   "codemirror_mode": {
    "name": "ipython",
    "version": 3
   },
   "file_extension": ".py",
   "mimetype": "text/x-python",
   "name": "python",
   "nbconvert_exporter": "python",
   "pygments_lexer": "ipython3",
   "version": "3.9.1"
  }
 },
 "nbformat": 4,
 "nbformat_minor": 5
}
