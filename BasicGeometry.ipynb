{
 "cells": [
  {
   "cell_type": "markdown",
   "id": "sought-costa",
   "metadata": {},
   "source": [
    "# Basic Geometry\n",
    "\n",
    "*Brian G. Mc Enery*"
   ]
  },
  {
   "cell_type": "markdown",
   "id": "suspended-going",
   "metadata": {},
   "source": [
    "### Developing a Geometry Package"
   ]
  },
  {
   "cell_type": "markdown",
   "id": "criminal-librarian",
   "metadata": {},
   "source": [
    "In order to use the Triple and CodeNumber classes it is necessary to begin to develop classes, methods and functions to both draw geometrical objects and to compute geometrical processes. To this end I am writing a **Python** package called **geom2d** which has the very basics of the geometry of a point and a line segment. In order to use these classes we must first import them from the package."
   ]
  },
  {
   "cell_type": "code",
   "execution_count": 1,
   "id": "sublime-davis",
   "metadata": {},
   "outputs": [],
   "source": [
    "from geom2d import Point, LineSegment"
   ]
  },
  {
   "cell_type": "markdown",
   "id": "regular-testimony",
   "metadata": {},
   "source": [
    "As we notice, a point consists of two values, the x and y coordinates, and a line segment consists of two points, one at either end. These may be drawn as follows."
   ]
  },
  {
   "attachments": {
    "09e7a86a-8194-42e5-b6d9-66dc9e844232.png": {
     "image/png": "[encoded data removed]"
    }
   },
   "cell_type": "markdown",
   "id": "portable-shanghai",
   "metadata": {},
   "source": [
    "![Basic Geometry.png](attachment:09e7a86a-8194-42e5-b6d9-66dc9e844232.png)"
   ]
  },
  {
   "cell_type": "markdown",
   "id": "bronze-syntax",
   "metadata": {},
   "source": [
    "We may use the class definitions to create objects of type Point and LineSegment as follows."
   ]
  },
  {
   "cell_type": "code",
   "execution_count": 2,
   "id": "original-chest",
   "metadata": {},
   "outputs": [
    {
     "name": "stdout",
     "output_type": "stream",
     "text": [
      "Point(2, 3)\n"
     ]
    }
   ],
   "source": [
    "a = Point(2, 3)\n",
    "print(a)"
   ]
  },
  {
   "cell_type": "code",
   "execution_count": 3,
   "id": "varied-equality",
   "metadata": {},
   "outputs": [
    {
     "name": "stdout",
     "output_type": "stream",
     "text": [
      "LineSegment(Point(3, 4), Point(5, 6))\n"
     ]
    }
   ],
   "source": [
    "p1 = Point(3, 4)\n",
    "p2 = Point(5, 6)\n",
    "l = LineSegment(p1, p2)\n",
    "print(l)"
   ]
  },
  {
   "cell_type": "markdown",
   "id": "funded-import",
   "metadata": {},
   "source": [
    "Notice that this is very *Mathematica* like in it's structure.\n",
    "\n",
    "So what can we do with these objects at present. Not a lot at this time of writing, but I know that this will change.\n",
    "\n",
    "One of the first methods I developed for the Point class was the ability to get the distance between two points. This is then used by the LineSegment class to get the length of a LineSegment object.\n",
    "\n",
    "So let's make sure that the points and linesegment are still defined as before. Just print them out."
   ]
  },
  {
   "cell_type": "code",
   "execution_count": 4,
   "id": "prime-beatles",
   "metadata": {},
   "outputs": [
    {
     "name": "stdout",
     "output_type": "stream",
     "text": [
      "Point(3, 4) Point(5, 6) LineSegment(Point(3, 4), Point(5, 6))\n"
     ]
    }
   ],
   "source": [
    "print(p1, p2, l)"
   ]
  },
  {
   "cell_type": "markdown",
   "id": "marked-policy",
   "metadata": {},
   "source": [
    "Now let's get the distance between p1 and p2."
   ]
  },
  {
   "cell_type": "code",
   "execution_count": 5,
   "id": "rural-huntington",
   "metadata": {},
   "outputs": [
    {
     "name": "stdout",
     "output_type": "stream",
     "text": [
      "2.8284271247461903\n"
     ]
    }
   ],
   "source": [
    "d = p1.dist(p2)\n",
    "print(d)"
   ]
  },
  {
   "cell_type": "markdown",
   "id": "terminal-projector",
   "metadata": {},
   "source": [
    "This should equal the length of the linesegment l."
   ]
  },
  {
   "cell_type": "code",
   "execution_count": 6,
   "id": "modified-syndrome",
   "metadata": {},
   "outputs": [
    {
     "name": "stdout",
     "output_type": "stream",
     "text": [
      "2.8284271247461903\n"
     ]
    }
   ],
   "source": [
    "len = l.length()\n",
    "print(len)"
   ]
  },
  {
   "cell_type": "markdown",
   "id": "rotary-indie",
   "metadata": {},
   "source": [
    "The next method I implemented was to determine when a line l segment contains a point p. So let's see how to write this in Python, not the Python code for the method, but the way of calling the method. Firstly we will set up a new line, and a point which I know is in the line."
   ]
  },
  {
   "cell_type": "code",
   "execution_count": 8,
   "id": "static-assignment",
   "metadata": {},
   "outputs": [
    {
     "data": {
      "text/plain": [
       "True"
      ]
     },
     "execution_count": 8,
     "metadata": {},
     "output_type": "execute_result"
    }
   ],
   "source": [
    "l = LineSegment(Point(2, 3), Point(4, 5))\n",
    "p = Point(3, 4)\n",
    "l.contains_point(p)"
   ]
  },
  {
   "cell_type": "markdown",
   "id": "documented-competition",
   "metadata": {},
   "source": [
    "See what happens if you change the point p in the above cell.\n",
    "\n",
    "In determining whether or not a point is in a line-segment I had to make use of the basic formulae based on $y = m x + c$, where $m$ is the slope of the line, and $c$ is the y-intercept, where the extended line segment crosses the y-axis. To this end there are two functions to calculate the slope of a line, and the y-intercept. They are called very simply."
   ]
  },
  {
   "cell_type": "code",
   "execution_count": null,
   "id": "ambient-reducing",
   "metadata": {},
   "outputs": [],
   "source": [
    "l = LineSegment(Point(2, 3), Point(4, 5))\n",
    "m = l.slope"
   ]
  }
 ],
 "metadata": {
  "kernelspec": {
   "display_name": "Python 3",
   "language": "python",
   "name": "python3"
  },
  "language_info": {
   "codemirror_mode": {
    "name": "ipython",
    "version": 3
   },
   "file_extension": ".py",
   "mimetype": "text/x-python",
   "name": "python",
   "nbconvert_exporter": "python",
   "pygments_lexer": "ipython3",
   "version": "3.9.1"
  }
 },
 "nbformat": 4,
 "nbformat_minor": 5
}
